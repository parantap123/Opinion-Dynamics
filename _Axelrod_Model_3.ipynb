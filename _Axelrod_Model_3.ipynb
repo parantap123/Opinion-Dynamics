{
 "cells": [
  {
   "cell_type": "code",
   "execution_count": 1,
   "metadata": {},
   "outputs": [],
   "source": [
    "import math\n",
    "import numpy as np\n",
    "import matplotlib.pyplot as plt\n",
    "import random\n",
    "from scipy.stats import truncnorm\n",
    "import operator"
   ]
  },
  {
   "cell_type": "markdown",
   "metadata": {},
   "source": [
    "# Normal distribution within a range"
   ]
  },
  {
   "cell_type": "code",
   "execution_count": 2,
   "metadata": {},
   "outputs": [],
   "source": [
    "\n",
    "\n",
    "def get_truncated_normal(mean=0, sd=1, low=0, upp=10):\n",
    "    return truncnorm(\n",
    "        (low - mean) / sd, (upp - mean) / sd, loc=mean, scale=sd)"
   ]
  },
  {
   "cell_type": "code",
   "execution_count": null,
   "metadata": {},
   "outputs": [],
   "source": []
  },
  {
   "cell_type": "markdown",
   "metadata": {},
   "source": [
    "# Initialisation of feature values"
   ]
  },
  {
   "cell_type": "code",
   "execution_count": 3,
   "metadata": {},
   "outputs": [
    {
     "name": "stdout",
     "output_type": "stream",
     "text": [
      "3480\n"
     ]
    },
    {
     "data": {
      "text/plain": [
       "<matplotlib.colorbar.Colorbar at 0x10ca9b7b8>"
      ]
     },
     "execution_count": 3,
     "metadata": {},
     "output_type": "execute_result"
    },
    {
     "data": {
      "image/png": "[encoded data removed]",
      "text/plain": [
       "<Figure size 288x288 with 2 Axes>"
      ]
     },
     "metadata": {},
     "output_type": "display_data"
    },
    {
     "data": {
      "image/png": "[encoded data removed]",
      "text/plain": [
       "<Figure size 288x288 with 2 Axes>"
      ]
     },
     "metadata": {},
     "output_type": "display_data"
    },
    {
     "data": {
      "image/png": "[encoded data removed]",
      "text/plain": [
       "<Figure size 288x288 with 2 Axes>"
      ]
     },
     "metadata": {},
     "output_type": "display_data"
    }
   ],
   "source": [
    "rows = 30\n",
    "cols = 30\n",
    "f = 20\n",
    "q = 10\n",
    "gamma = 2\n",
    "total_nodes = rows * cols \n",
    "all_equal = 0\n",
    "all_unequal = 0\n",
    "total_relations = ( (rows - 2) * (cols - 2) * 4 ) + ( (rows - 2) * 3 + (rows - 2) * 3 ) + ( (cols - 2) * 3 + (cols - 2) * 3 ) + (4 * 2)  \n",
    "features = {}\n",
    "feature_counter_equal = {}\n",
    "plot1 = np.zeros(shape=(rows,cols))\n",
    "plot2 = np.zeros(shape=(rows,cols))\n",
    "plot3 = np.zeros(shape=(rows,cols))\n",
    "# initialising the feature values\n",
    "for i in range(rows):\n",
    "    for j in range(cols):\n",
    "        List = []\n",
    "        X = get_truncated_normal(mean = 10, sd = 7, low = 0, upp = q + 1)\n",
    "        List =  np.floor(X.rvs(f))\n",
    "        features[(i,j)] = List\n",
    "for i in range(rows):\n",
    "    for j in range(cols):\n",
    "        plot1[i][j] = features[(i,j)][7]\n",
    "        plot2[i][j] = features[(i,j)][10]\n",
    "        plot3[i][j] = features[(i,j)][17]\n",
    "print(total_relations)\n",
    "plt.matshow(plot1)\n",
    "plt.colorbar()\n",
    "plt.matshow(plot2)\n",
    "plt.colorbar()\n",
    "plt.matshow(plot3)\n",
    "plt.colorbar()"
   ]
  },
  {
   "cell_type": "markdown",
   "metadata": {},
   "source": [
    "# Interaction Sequence "
   ]
  },
  {
   "cell_type": "code",
   "execution_count": 4,
   "metadata": {},
   "outputs": [],
   "source": [
    "T = []\n",
    "for it in range(0,total_nodes):\n",
    "        start = 0\n",
    "        count = 0\n",
    "        lamTemp = 1.0*(np.random.randint(0,5)+1)\n",
    "        lamTempInv = 1.0/lamTemp\n",
    "        arr = np.random.exponential(lamTempInv,10000)\n",
    "        for it1 in arr:\n",
    "                start = start + it1\n",
    "                T.append((start,it))\n",
    "T.sort(key=operator.itemgetter(0))"
   ]
  },
  {
   "cell_type": "markdown",
   "metadata": {},
   "source": [
    "# The count of same features"
   ]
  },
  {
   "cell_type": "code",
   "execution_count": 5,
   "metadata": {},
   "outputs": [],
   "source": [
    "# keeping the count of same features\n",
    "for i in range(rows):\n",
    "    for j in range(cols):\n",
    "        feature_counter_equal[(i, j)] = {}\n",
    "        if(i - 1 >= 0):\n",
    "            if((i - 1 , j) not in feature_counter_equal[(i, j)]):\n",
    "                feature_counter_equal[(i, j)][(i - 1, j)] = 0\n",
    "            for k in range(f):\n",
    "                if(features[(i,j)][k] == features[(i - 1,j)][k]):\n",
    "                    feature_counter_equal[(i, j)][(i - 1, j)] += 1\n",
    "        if(i + 1 < rows):\n",
    "            if((i + 1 , j) not in feature_counter_equal[(i, j)]):\n",
    "                feature_counter_equal[(i, j)][(i + 1, j)] = 0\n",
    "            for k in range(f):\n",
    "                if(features[(i,j)][k] == features[(i + 1,j)][k]):\n",
    "                    feature_counter_equal[(i, j)][(i + 1, j)] += 1\n",
    "        if(j - 1 >= 0):\n",
    "            if((i, j - 1) not in feature_counter_equal[(i, j)]):\n",
    "                feature_counter_equal[(i, j)][(i, j - 1)] = 0\n",
    "            for k in range(f):\n",
    "                if(features[(i,j)][k] == features[(i, j - 1)][k]):\n",
    "                    feature_counter_equal[(i, j)][(i, j - 1)] += 1\n",
    "        if(j + 1 < cols):\n",
    "            if((i, j + 1) not in feature_counter_equal[(i, j)]):\n",
    "                feature_counter_equal[(i, j)][(i, j + 1)] = 0\n",
    "            for k in range(f):\n",
    "                if(features[(i,j)][k] == features[(i, j + 1)][k]):\n",
    "                    feature_counter_equal[(i, j)][(i, j + 1)] += 1"
   ]
  },
  {
   "cell_type": "markdown",
   "metadata": {},
   "source": [
    "# Count of all equal and all not equal"
   ]
  },
  {
   "cell_type": "code",
   "execution_count": 6,
   "metadata": {},
   "outputs": [],
   "source": [
    "all_equal = 0\n",
    "all_unequal = 0\n",
    "for i in range(rows):\n",
    "    for j in range(cols):\n",
    "        if(i - 1 >= 0):    \n",
    "            if(feature_counter_equal[(i, j)][(i - 1, j)] == f):\n",
    "                all_equal += 1\n",
    "            if(feature_counter_equal[(i, j)][(i - 1, j)] == 0):\n",
    "                all_unequal += 1\n",
    "                \n",
    "        if(i + 1 < rows):    \n",
    "            if(feature_counter_equal[(i, j)][(i + 1, j)] == f):\n",
    "                all_equal += 1\n",
    "            if(feature_counter_equal[(i, j)][(i + 1, j)] == 0):\n",
    "                all_unequal += 1\n",
    "\n",
    "        if(j - 1 >= 0):\n",
    "            if(feature_counter_equal[(i, j)][(i, j - 1)] == f):\n",
    "                all_equal += 1\n",
    "            if(feature_counter_equal[(i, j)][(i, j - 1)] == 0):\n",
    "                all_unequal += 1\n",
    "        if(j + 1 < cols):\n",
    "            if(feature_counter_equal[(i, j)][(i, j + 1)] == f):\n",
    "                all_equal += 1\n",
    "            if(feature_counter_equal[(i, j)][(i, j + 1)] == 0):\n",
    "                all_unequal += 1        "
   ]
  },
  {
   "cell_type": "markdown",
   "metadata": {},
   "source": [
    "# AxelRod's model"
   ]
  },
  {
   "cell_type": "code",
   "execution_count": null,
   "metadata": {},
   "outputs": [
    {
     "name": "stderr",
     "output_type": "stream",
     "text": [
      "/usr/local/lib/python3.7/site-packages/matplotlib/pyplot.py:522: RuntimeWarning: More than 20 figures have been opened. Figures created through the pyplot interface (`matplotlib.pyplot.figure`) are retained until explicitly closed and may consume too much memory. (To control this warning, see the rcParam `figure.max_open_warning`).\n",
      "  max_open_warning, RuntimeWarning)\n"
     ]
    }
   ],
   "source": [
    "def normalise(x):\n",
    "    \"\"\"normalising function\"\"\"\n",
    "    return x / np.sum(x, axis=0)\n",
    "flag = 0\n",
    "count = 0\n",
    "iterator = 0\n",
    "g= open(\"data_model.txt\",\"w+\")\n",
    "plot1 = np.zeros(shape=(rows,cols))\n",
    "plot2 = np.zeros(shape=(rows,cols))\n",
    "plot3 = np.zeros(shape=(rows,cols))\n",
    "for time,user in T:\n",
    "    flag = 0\n",
    "    count += 1\n",
    "    i = user / cols\n",
    "    i = math.floor(i)\n",
    "    j = user % cols\n",
    "    if iterator == 10000:\n",
    "        for i in range(rows):\n",
    "            for j in range(cols):\n",
    "                plot1[i][j] = features[(i,j)][7]\n",
    "                plot2[i][j] = features[(i,j)][10]\n",
    "                plot3[i][j] = features[(i,j)][17]\n",
    "        \n",
    "        plt.matshow(plot1)\n",
    "        plt.colorbar()\n",
    "        plt.matshow(plot2)\n",
    "        plt.colorbar()\n",
    "        plt.matshow(plot3)\n",
    "        plt.colorbar()\n",
    "        iterator = 0\n",
    "    biased_array = []\n",
    "    L = []\n",
    "    if(i - 1 >= 0):    \n",
    "        L.append((i - 1, j))\n",
    "    if(i + 1 < rows):    \n",
    "        L.append((i + 1, j))\n",
    "    if(j - 1 >= 0):\n",
    "        L.append((i, j - 1))\n",
    "    if(j + 1 < cols):\n",
    "        L.append((i, j + 1))\n",
    "    #loop for keeping the probabilities of the similarity\n",
    "    for index in range(0,len(L)):\n",
    "        prob_cultural_similarity = feature_counter_equal[(i,j)][L[index]] / f\n",
    "        biased_array.append(prob_cultural_similarity)\n",
    "    \n",
    "    np.power(biased_array,gamma)\n",
    "    biased_array = normalise(biased_array)\n",
    "    \n",
    "    #checker if every neibour of that actor has converged\n",
    "    flag = 0\n",
    "    for index in range(0,len(L)):\n",
    "        neibour = L[index]\n",
    "        if(feature_counter_equal[(i,j)][neibour] != 0 and feature_counter_equal[(i,j)][neibour] != f):\n",
    "            flag = 1\n",
    "            break\n",
    "    \n",
    "    if flag == 0:#checker if every neibour of that actor has converged\n",
    "        continue\n",
    "    \n",
    "    \n",
    "    index = 0\n",
    "    while True:\n",
    "        index =  random.randrange(0, len(L))   \n",
    "        neibour = L[index]\n",
    "        if(feature_counter_equal[(i,j)][neibour] != 0 and feature_counter_equal[(i,j)][neibour] != f):\n",
    "            break\n",
    "        else:\n",
    "            continue\n",
    "    \n",
    "    neibour = L[index]\n",
    "    \n",
    "    if(feature_counter_equal[(i,j)][neibour] != 0 and feature_counter_equal[(i,j)][neibour] != f):\n",
    "        prob_cultural_similarity = biased_array[index]\n",
    "        prob = random.uniform(0, 1)\n",
    "        if prob < prob_cultural_similarity:\n",
    "            feature = 0\n",
    "            while True:\n",
    "                f_1 = random.randrange(0, f)\n",
    "                if(features[(i,j)][f_1] == features[neibour][f_1]):\n",
    "                    continue\n",
    "                else:\n",
    "                    break\n",
    "\n",
    "            prev = features[(i,j)][f_1] \n",
    "            features[(i,j)][f_1]  = features[neibour][f_1]\n",
    "            iterator = iterator + 1\n",
    "            #saving data\n",
    "            g.write(\"%s %s %s %s\\n\" % ((i,j) , prev , neibour , features[(i,j)][f_1]))\n",
    "            for l in range(len(L)):\n",
    "                neibour_1 = L[l]\n",
    "                if(features[neibour_1][f_1] == prev):\n",
    "                    prev_equal = feature_counter_equal[(i,j)][neibour_1] \n",
    "                    feature_counter_equal[(i,j)][neibour_1] -= 1\n",
    "                    feature_counter_equal[neibour_1][(i,j)] -= 1\n",
    "                    if(prev_equal == f):\n",
    "                        all_equal -= 2\n",
    "                    if(prev_equal == 1):\n",
    "                        all_unequal += 2\n",
    "            for l in range(len(L)):\n",
    "                neibour_1 = L[l]\n",
    "                if(features[neibour_1][f_1] == features[(i,j)][f_1]):\n",
    "                    prev_equal = feature_counter_equal[(i,j)][neibour_1] \n",
    "                    feature_counter_equal[(i,j)][neibour_1] += 1\n",
    "                    feature_counter_equal[neibour_1][(i,j)] += 1\n",
    "                    if(prev_equal == f - 1):\n",
    "                         all_equal += 2\n",
    "                    if(prev_equal == 0):\n",
    "                        all_unequal -= 2\n",
    "            if(all_equal + all_unequal == total_relations):\n",
    "                break   \n",
    "\n",
    "print((all_equal+all_unequal))    \n",
    "print(\"out\")        "
   ]
  },
  {
   "cell_type": "code",
   "execution_count": null,
   "metadata": {},
   "outputs": [],
   "source": [
    "count"
   ]
  },
  {
   "cell_type": "code",
   "execution_count": null,
   "metadata": {},
   "outputs": [],
   "source": [
    "flag = 0\n",
    "for i in range(rows):\n",
    "    for j in range(cols):\n",
    "        if(i - 1 >= 0):    \n",
    "            if(feature_counter_equal[(i, j)][(i - 1, j)] != f and feature_counter_equal[(i, j)][(i - 1, j)] != 0):\n",
    "                print(\"Not reached absorbing state\")\n",
    "                flag = 1\n",
    "                break\n",
    "                \n",
    "        if(i + 1 < rows):    \n",
    "            if(feature_counter_equal[(i, j)][(i + 1, j)] != f and feature_counter_equal[(i, j)][(i + 1, j)] != 0):\n",
    "                print(\"Not reached absorbing state\")\n",
    "                flag = 1\n",
    "                break\n",
    "        if(j - 1 >= 0):\n",
    "            if(feature_counter_equal[(i, j)][(i, j - 1)] != f and feature_counter_equal[(i, j)][(i, j - 1)] != 0):\n",
    "                print(\"Not reached absorbing state\")\n",
    "                flag = 1\n",
    "                break\n",
    "        if(j + 1 < cols):\n",
    "            if(feature_counter_equal[(i, j)][(i, j + 1)] != f and feature_counter_equal[(i, j)][(i, j + 1)] != 0):\n",
    "                print(\"Not reached absorbing state\")\n",
    "                flag = 1\n",
    "                break\n",
    "    if(flag == 1):\n",
    "        break\n",
    "if(flag == 0):\n",
    "    print(\"Reached absorbing state\")                "
   ]
  },
  {
   "cell_type": "code",
   "execution_count": null,
   "metadata": {},
   "outputs": [],
   "source": [
    "x = []\n",
    "x.append(2)\n",
    "x.append(3)\n",
    "np.power(x, 2)"
   ]
  },
  {
   "cell_type": "code",
   "execution_count": null,
   "metadata": {},
   "outputs": [],
   "source": []
  }
 ],
 "metadata": {
  "kernelspec": {
   "display_name": "Python 3",
   "language": "python",
   "name": "python3"
  },
  "language_info": {
   "codemirror_mode": {
    "name": "ipython",
    "version": 3
   },
   "file_extension": ".py",
   "mimetype": "text/x-python",
   "name": "python",
   "nbconvert_exporter": "python",
   "pygments_lexer": "ipython3",
   "version": "3.7.1"
  }
 },
 "nbformat": 4,
 "nbformat_minor": 2
}
