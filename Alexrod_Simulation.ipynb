{
 "cells": [
  {
   "cell_type": "markdown",
   "metadata": {},
   "source": [
    "# INITIALISATIONS"
   ]
  },
  {
   "cell_type": "code",
   "execution_count": 152,
   "metadata": {},
   "outputs": [
    {
     "name": "stdout",
     "output_type": "stream",
     "text": [
      "667596\n"
     ]
    }
   ],
   "source": [
    "import numpy as np\n",
    "import random\n",
    "rows = 1000\n",
    "cols = 1000\n",
    "f = 3\n",
    "q = 3\n",
    "all_equal = 0\n",
    "all_unequal = 0\n",
    "total = rows * cols\n",
    "aj = np.zeros(shape=(rows,cols))#adjecency matrix\n",
    "features = np.zeros(shape=(rows,f))\n",
    "feature_counter_equal = np.zeros(shape=(rows,cols))\n",
    "for i in range(rows):\n",
    "    for j in range(cols):\n",
    "        aj[i][j] = random.randrange(0, 2) \n",
    "\n",
    "for i in range(rows):\n",
    "    for j in range(cols):\n",
    "        aj[i][j] = aj[j][i] \n",
    "        \n",
    "# initialising the feature values\n",
    "for i in range(rows):\n",
    "    for j in range(f):\n",
    "        features[i][j] = random.randrange(0, q)\n",
    "        \n",
    "# keeping the count of same features\n",
    "for i in range(rows):\n",
    "    for j in range(cols):\n",
    "        for k in range(f):\n",
    "            if(features[i][k] == features[j][k] and aj[i][j] == 1):\n",
    "                feature_counter_equal[i][j] += 1\n",
    "                #print(feature_counter_equal[i][j])\n",
    "        #print(\"----------------------\")\n",
    "for x in range(rows):\n",
    "    for y in range(cols):\n",
    "        if feature_counter_equal[x][y] == 0:\n",
    "            all_unequal += 1\n",
    "        if feature_counter_equal[x][y] == f:\n",
    "            all_equal += 1\n",
    "print(all_equal + all_unequal)            "
   ]
  },
  {
   "cell_type": "code",
   "execution_count": 153,
   "metadata": {},
   "outputs": [
    {
     "name": "stdout",
     "output_type": "stream",
     "text": [
      "18689\n",
      "648907\n"
     ]
    }
   ],
   "source": [
    " \n",
    "print(all_equal)\n",
    "print(all_unequal)"
   ]
  },
  {
   "cell_type": "markdown",
   "metadata": {},
   "source": [
    "# ALEXROD'S MODEL"
   ]
  },
  {
   "cell_type": "code",
   "execution_count": 154,
   "metadata": {},
   "outputs": [
    {
     "name": "stdout",
     "output_type": "stream",
     "text": [
      "1000000\n",
      "out\n"
     ]
    }
   ],
   "source": [
    "flag = 0\n",
    "while True:\n",
    "    flag = 0\n",
    "    i = random.randrange(0, rows)\n",
    "    j = random.randrange(0, cols)\n",
    "    \n",
    "    while True:\n",
    "        if(aj[i][j] == 1.0):\n",
    "            break   \n",
    "        j = random.randrange(0, cols)\n",
    "    if(aj[i][j] == 1.0 and i != j):\n",
    "        if(feature_counter_equal[i][j] != 0 and feature_counter_equal[i][j] != f):\n",
    "            prob_cultural_similarity = feature_counter_equal[i][j] / f\n",
    "            prob = random.uniform(0, 1)\n",
    "            if prob < prob_cultural_similarity:\n",
    "                feature = 0\n",
    "                \n",
    "                while True:\n",
    "                    f_1 = random.randrange(0, f)\n",
    "                    if(features[i][f_1] == features[j][f_1]):\n",
    "                        continue\n",
    "                    else:\n",
    "                        break\n",
    "\n",
    "                prev = features[i][f_1] \n",
    "                features[i][f_1] = features[j][f_1]\n",
    "                for l in range(rows):\n",
    "                    if(aj[i][l] == 1 and features[l][f_1] == prev):\n",
    "                        if(i != l):\n",
    "                            prev_equal = feature_counter_equal[i][l] \n",
    "                            feature_counter_equal[i][l] -= 1\n",
    "                            feature_counter_equal[l][i] -= 1\n",
    "                            if(prev_equal == f):\n",
    "                                all_equal -= 2\n",
    "                            if(prev_equal == 1):\n",
    "                                all_unequal += 2\n",
    "                for l in range(rows):\n",
    "                    if(aj[i][l] == 1 and features[l][f_1] == features[i][f_1]):\n",
    "                        if(i != l):\n",
    "                            prev_equal = feature_counter_equal[i][l] \n",
    "                            feature_counter_equal[i][l] += 1\n",
    "                            feature_counter_equal[l][i] += 1\n",
    "                            if(prev_equal == f - 1):\n",
    "                                 all_equal += 2\n",
    "                            if(prev_equal == 0):\n",
    "                                all_unequal -= 2\n",
    "                 \n",
    "                if(all_equal + all_unequal == total):\n",
    "                    break\n",
    "\n",
    "\n",
    "print((all_equal+all_unequal))    \n",
    "print(\"out\")        "
   ]
  },
  {
   "cell_type": "markdown",
   "metadata": {},
   "source": [
    "# VERIFICATION MODULE"
   ]
  },
  {
   "cell_type": "code",
   "execution_count": 157,
   "metadata": {},
   "outputs": [
    {
     "name": "stdout",
     "output_type": "stream",
     "text": [
      "Reached absorbing state!\n"
     ]
    }
   ],
   "source": [
    "absorbing_state = 1\n",
    "for i in range(rows):\n",
    "    for j in range(cols):\n",
    "        if(feature_counter_equal[i][j] != 0 and feature_counter_equal[i][j] != f ):\n",
    "            absorbing_state = 0\n",
    "            break\n",
    "    if(absorbing_state == 0):\n",
    "        break\n",
    "if(absorbing_state == 1):\n",
    "    print(\"Reached absorbing state!\")    \n",
    "else:\n",
    "    print(\" Not reached absorbing state!\") "
   ]
  },
  {
   "cell_type": "code",
   "execution_count": null,
   "metadata": {},
   "outputs": [],
   "source": []
  },
  {
   "cell_type": "code",
   "execution_count": null,
   "metadata": {},
   "outputs": [],
   "source": []
  }
 ],
 "metadata": {
  "kernelspec": {
   "display_name": "Python 3",
   "language": "python",
   "name": "python3"
  },
  "language_info": {
   "codemirror_mode": {
    "name": "ipython",
    "version": 3
   },
   "file_extension": ".py",
   "mimetype": "text/x-python",
   "name": "python",
   "nbconvert_exporter": "python",
   "pygments_lexer": "ipython3",
   "version": "3.7.0"
  }
 },
 "nbformat": 4,
 "nbformat_minor": 2
}
